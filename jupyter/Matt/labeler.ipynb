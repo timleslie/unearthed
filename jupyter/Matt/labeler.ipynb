{
 "cells": [
  {
   "cell_type": "code",
   "execution_count": 20,
   "metadata": {
    "collapsed": false
   },
   "outputs": [],
   "source": [
    "import pandas as pd\n",
    "import matplotlib.pyplot as plt\n",
    "import seaborn as sns"
   ]
  },
  {
   "cell_type": "markdown",
   "metadata": {},
   "source": [
    "## add labels\n",
    "- read all.hd5\n",
    "- detect spew events, \n",
    "- label pre-spew and post-spew periods\n",
    "- label invalid data\n",
    "- write to labelled.hd5"
   ]
  },
  {
   "cell_type": "code",
   "execution_count": 21,
   "metadata": {
    "collapsed": false
   },
   "outputs": [],
   "source": [
    "%matplotlib notebook"
   ]
  },
  {
   "cell_type": "code",
   "execution_count": 22,
   "metadata": {
    "collapsed": false
   },
   "outputs": [],
   "source": [
    "data = pd.read_hdf('/mnt/raw/clean/all.h5', 'data')"
   ]
  },
  {
   "cell_type": "code",
   "execution_count": 23,
   "metadata": {
    "collapsed": false
   },
   "outputs": [],
   "source": [
    "columns = {\n",
    "    \"3311WI671.PV\" : \"Spewput\",\n",
    "    \"3311HS181A.PV\" : \"Throughput\",\n",
    "}"
   ]
  },
  {
   "cell_type": "code",
   "execution_count": 24,
   "metadata": {
    "collapsed": false
   },
   "outputs": [],
   "source": [
    "data.rename(columns=columns, inplace=True)"
   ]
  },
  {
   "cell_type": "code",
   "execution_count": 25,
   "metadata": {
    "collapsed": true
   },
   "outputs": [],
   "source": [
    "SAMPLE_FREQ = pd.Timedelta('00:00:05')"
   ]
  },
  {
   "cell_type": "code",
   "execution_count": 26,
   "metadata": {
    "collapsed": false
   },
   "outputs": [],
   "source": [
    "#invalid data when throughput is below threshold (plus a window around that period)\n",
    "INVALID_THRESHOLD = 1600\n",
    "INVALID_WINDOW = pd.Timedelta('00:20:00')\n",
    "\n",
    "invalid = data.Throughput < INVALID_THRESHOLD\n",
    "invalid = pd.rolling_sum(invalid, window = INVALID_WINDOW / SAMPLE_FREQ, center=True) > 0"
   ]
  },
  {
   "cell_type": "code",
   "execution_count": 32,
   "metadata": {
    "collapsed": false
   },
   "outputs": [],
   "source": [
    "SPEW_THRESHOLD = 300\n",
    "\n",
    "SAMPLE_FREQ = pd.Timedelta('00:00:05')\n",
    "SPEW_RECOVERY_TIME = pd.Timedelta('00:45:00')\n",
    "PRE_SPEW_WARNING = pd.Timedelta('00:03:00')\n",
    "\n",
    "spewing = data.Spewput > SPEW_THRESHOLD\n",
    "afterspew = pd.rolling_sum(spewing, window = SPEW_RECOVERY_TIME / SAMPLE_FREQ) > 1\n",
    "spewevent = spewing & (~afterspew)\n",
    "prespew = (pd.rolling_sum(spewevent[::-1], window= PRE_SPEW_WARNING / SAMPLE_FREQ)[::-1] > 0) & (~spewevent) & (~afterspew)\n"
   ]
  },
  {
   "cell_type": "code",
   "execution_count": 33,
   "metadata": {
    "collapsed": true
   },
   "outputs": [],
   "source": [
    "data[\"SPEW_EVENT\"] = spewevent\n",
    "data[\"PRE_SPEW\"] = prespew\n",
    "data[\"POST_SPEW\"] = afterspew\n",
    "data[\"INVALID\"] = invalid"
   ]
  },
  {
   "cell_type": "code",
   "execution_count": 34,
   "metadata": {
    "collapsed": true
   },
   "outputs": [],
   "source": [
    "data.to_hdf(r\"/mnt/raw/clean/labelled.h5\", 'data')"
   ]
  }
 ],
 "metadata": {
  "kernelspec": {
   "display_name": "Python 3",
   "language": "python",
   "name": "python3"
  },
  "language_info": {
   "codemirror_mode": {
    "name": "ipython",
    "version": 3
   },
   "file_extension": ".py",
   "mimetype": "text/x-python",
   "name": "python",
   "nbconvert_exporter": "python",
   "pygments_lexer": "ipython3",
   "version": "3.5.1+"
  }
 },
 "nbformat": 4,
 "nbformat_minor": 0
}

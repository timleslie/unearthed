{
 "cells": [
  {
   "cell_type": "code",
   "execution_count": null,
   "metadata": {
    "collapsed": false
   },
   "outputs": [],
   "source": [
    "import pandas as pd\n",
    "import seaborn as sns"
   ]
  },
  {
   "cell_type": "code",
   "execution_count": 20,
   "metadata": {
    "collapsed": true
   },
   "outputs": [],
   "source": [
    "%matplotlib notebook"
   ]
  },
  {
   "cell_type": "code",
   "execution_count": 32,
   "metadata": {
    "collapsed": false
   },
   "outputs": [],
   "source": [
    "col = ['MillSpeed', '1Speed', 'T3_Output', 'T2_Output', 'T1_Output', 'T3_Size', 'T2_Size', 'T1_Size', 'Spewput', 'T12_T3_Ratio', 'T1_T2_Ratio', \"PRE_SPEW\"]"
   ]
  },
  {
   "cell_type": "code",
   "execution_count": 33,
   "metadata": {
    "collapsed": false
   },
   "outputs": [
    {
     "data": {
      "text/plain": [
       "['MillSpeed',\n",
       " '1Speed',\n",
       " 'T3_Output',\n",
       " 'T2_Output',\n",
       " 'T1_Output',\n",
       " 'T3_Size',\n",
       " 'T2_Size',\n",
       " 'T1_Size',\n",
       " 'Spewput',\n",
       " 'T12_T3_Ratio',\n",
       " 'T1_T2_Ratio',\n",
       " 'PRE_SPEW']"
      ]
     },
     "execution_count": 33,
     "metadata": {},
     "output_type": "execute_result"
    }
   ],
   "source": [
    "col"
   ]
  },
  {
   "cell_type": "code",
   "execution_count": 9,
   "metadata": {
    "collapsed": true
   },
   "outputs": [],
   "source": [
    "data = pd.read_hdf(\"/mnt/raw/clean/labelled.h5\")"
   ]
  },
  {
   "cell_type": "code",
   "execution_count": 10,
   "metadata": {
    "collapsed": false
   },
   "outputs": [
    {
     "data": {
      "text/html": [
       "<div>\n",
       "<table border=\"1\" class=\"dataframe\">\n",
       "  <thead>\n",
       "    <tr style=\"text-align: right;\">\n",
       "      <th></th>\n",
       "      <th>JIC22564</th>\n",
       "      <th>JIC22864</th>\n",
       "      <th>3312JI354.PV</th>\n",
       "      <th>3312FI040.PV</th>\n",
       "      <th>3312FIC040.PV</th>\n",
       "      <th>DI22936-PCT.CPV</th>\n",
       "      <th>FI22937.PV</th>\n",
       "      <th>MIY22937.CPV</th>\n",
       "      <th>PI22925.PV</th>\n",
       "      <th>SI22313.PV</th>\n",
       "      <th>...</th>\n",
       "      <th>SY23015.MV</th>\n",
       "      <th>WI21633A.PV</th>\n",
       "      <th>SY21633A.MV</th>\n",
       "      <th>WIC22026.SV</th>\n",
       "      <th>WIC22026LAG.RV</th>\n",
       "      <th>YIC22001</th>\n",
       "      <th>SPEW_EVENT</th>\n",
       "      <th>PRE_SPEW</th>\n",
       "      <th>POST_SPEW</th>\n",
       "      <th>INVALID</th>\n",
       "    </tr>\n",
       "    <tr>\n",
       "      <th>Date</th>\n",
       "      <th></th>\n",
       "      <th></th>\n",
       "      <th></th>\n",
       "      <th></th>\n",
       "      <th></th>\n",
       "      <th></th>\n",
       "      <th></th>\n",
       "      <th></th>\n",
       "      <th></th>\n",
       "      <th></th>\n",
       "      <th></th>\n",
       "      <th></th>\n",
       "      <th></th>\n",
       "      <th></th>\n",
       "      <th></th>\n",
       "      <th></th>\n",
       "      <th></th>\n",
       "      <th></th>\n",
       "      <th></th>\n",
       "      <th></th>\n",
       "      <th></th>\n",
       "    </tr>\n",
       "  </thead>\n",
       "  <tbody>\n",
       "    <tr>\n",
       "      <th>2015-11-01 00:00:00</th>\n",
       "      <td>-9.972675</td>\n",
       "      <td>-22.276613</td>\n",
       "      <td>68.263298</td>\n",
       "      <td>-0.124795</td>\n",
       "      <td>-0.124795</td>\n",
       "      <td>82.477707</td>\n",
       "      <td>0.079746</td>\n",
       "      <td>-0.069263</td>\n",
       "      <td>-0.016819</td>\n",
       "      <td>0.044351</td>\n",
       "      <td>...</td>\n",
       "      <td>49.100315</td>\n",
       "      <td>1109.271606</td>\n",
       "      <td>19.740347</td>\n",
       "      <td>1051.5</td>\n",
       "      <td>622.241211</td>\n",
       "      <td>3.977420</td>\n",
       "      <td>False</td>\n",
       "      <td>False</td>\n",
       "      <td>False</td>\n",
       "      <td>False</td>\n",
       "    </tr>\n",
       "    <tr>\n",
       "      <th>2015-11-01 00:00:05</th>\n",
       "      <td>-9.518520</td>\n",
       "      <td>-22.276613</td>\n",
       "      <td>68.322144</td>\n",
       "      <td>-0.124795</td>\n",
       "      <td>-0.124795</td>\n",
       "      <td>82.477707</td>\n",
       "      <td>-0.100026</td>\n",
       "      <td>-0.069264</td>\n",
       "      <td>-0.016819</td>\n",
       "      <td>0.044352</td>\n",
       "      <td>...</td>\n",
       "      <td>49.518925</td>\n",
       "      <td>1102.659058</td>\n",
       "      <td>19.722883</td>\n",
       "      <td>1051.5</td>\n",
       "      <td>622.354797</td>\n",
       "      <td>3.977396</td>\n",
       "      <td>False</td>\n",
       "      <td>False</td>\n",
       "      <td>False</td>\n",
       "      <td>False</td>\n",
       "    </tr>\n",
       "    <tr>\n",
       "      <th>2015-11-01 00:00:10</th>\n",
       "      <td>-9.927657</td>\n",
       "      <td>-22.276613</td>\n",
       "      <td>68.087372</td>\n",
       "      <td>-0.124795</td>\n",
       "      <td>-0.124795</td>\n",
       "      <td>82.477707</td>\n",
       "      <td>-0.268234</td>\n",
       "      <td>-0.069266</td>\n",
       "      <td>-0.016819</td>\n",
       "      <td>0.044354</td>\n",
       "      <td>...</td>\n",
       "      <td>49.543472</td>\n",
       "      <td>1078.446655</td>\n",
       "      <td>19.747105</td>\n",
       "      <td>1051.5</td>\n",
       "      <td>622.468323</td>\n",
       "      <td>3.977373</td>\n",
       "      <td>False</td>\n",
       "      <td>False</td>\n",
       "      <td>False</td>\n",
       "      <td>False</td>\n",
       "    </tr>\n",
       "    <tr>\n",
       "      <th>2015-11-01 00:00:15</th>\n",
       "      <td>-9.745892</td>\n",
       "      <td>-22.276613</td>\n",
       "      <td>68.371857</td>\n",
       "      <td>-0.124795</td>\n",
       "      <td>-0.124795</td>\n",
       "      <td>82.477707</td>\n",
       "      <td>-0.157069</td>\n",
       "      <td>-0.069268</td>\n",
       "      <td>-0.016819</td>\n",
       "      <td>0.044356</td>\n",
       "      <td>...</td>\n",
       "      <td>49.638874</td>\n",
       "      <td>1127.230347</td>\n",
       "      <td>19.688267</td>\n",
       "      <td>1051.5</td>\n",
       "      <td>622.581909</td>\n",
       "      <td>3.977349</td>\n",
       "      <td>False</td>\n",
       "      <td>False</td>\n",
       "      <td>False</td>\n",
       "      <td>False</td>\n",
       "    </tr>\n",
       "    <tr>\n",
       "      <th>2015-11-01 00:00:20</th>\n",
       "      <td>-9.918549</td>\n",
       "      <td>-22.276613</td>\n",
       "      <td>68.413178</td>\n",
       "      <td>-0.124795</td>\n",
       "      <td>-0.124795</td>\n",
       "      <td>82.477707</td>\n",
       "      <td>-0.004912</td>\n",
       "      <td>-0.069270</td>\n",
       "      <td>-0.016819</td>\n",
       "      <td>0.044358</td>\n",
       "      <td>...</td>\n",
       "      <td>49.583370</td>\n",
       "      <td>1151.662476</td>\n",
       "      <td>19.525127</td>\n",
       "      <td>1051.5</td>\n",
       "      <td>622.695496</td>\n",
       "      <td>3.977325</td>\n",
       "      <td>False</td>\n",
       "      <td>False</td>\n",
       "      <td>False</td>\n",
       "      <td>False</td>\n",
       "    </tr>\n",
       "  </tbody>\n",
       "</table>\n",
       "<p>5 rows × 123 columns</p>\n",
       "</div>"
      ],
      "text/plain": [
       "                     JIC22564   JIC22864  3312JI354.PV  3312FI040.PV  \\\n",
       "Date                                                                   \n",
       "2015-11-01 00:00:00 -9.972675 -22.276613     68.263298     -0.124795   \n",
       "2015-11-01 00:00:05 -9.518520 -22.276613     68.322144     -0.124795   \n",
       "2015-11-01 00:00:10 -9.927657 -22.276613     68.087372     -0.124795   \n",
       "2015-11-01 00:00:15 -9.745892 -22.276613     68.371857     -0.124795   \n",
       "2015-11-01 00:00:20 -9.918549 -22.276613     68.413178     -0.124795   \n",
       "\n",
       "                     3312FIC040.PV  DI22936-PCT.CPV  FI22937.PV  MIY22937.CPV  \\\n",
       "Date                                                                            \n",
       "2015-11-01 00:00:00      -0.124795        82.477707    0.079746     -0.069263   \n",
       "2015-11-01 00:00:05      -0.124795        82.477707   -0.100026     -0.069264   \n",
       "2015-11-01 00:00:10      -0.124795        82.477707   -0.268234     -0.069266   \n",
       "2015-11-01 00:00:15      -0.124795        82.477707   -0.157069     -0.069268   \n",
       "2015-11-01 00:00:20      -0.124795        82.477707   -0.004912     -0.069270   \n",
       "\n",
       "                     PI22925.PV  SI22313.PV   ...     SY23015.MV  WI21633A.PV  \\\n",
       "Date                                          ...                               \n",
       "2015-11-01 00:00:00   -0.016819    0.044351   ...      49.100315  1109.271606   \n",
       "2015-11-01 00:00:05   -0.016819    0.044352   ...      49.518925  1102.659058   \n",
       "2015-11-01 00:00:10   -0.016819    0.044354   ...      49.543472  1078.446655   \n",
       "2015-11-01 00:00:15   -0.016819    0.044356   ...      49.638874  1127.230347   \n",
       "2015-11-01 00:00:20   -0.016819    0.044358   ...      49.583370  1151.662476   \n",
       "\n",
       "                     SY21633A.MV  WIC22026.SV  WIC22026LAG.RV  YIC22001  \\\n",
       "Date                                                                      \n",
       "2015-11-01 00:00:00    19.740347       1051.5      622.241211  3.977420   \n",
       "2015-11-01 00:00:05    19.722883       1051.5      622.354797  3.977396   \n",
       "2015-11-01 00:00:10    19.747105       1051.5      622.468323  3.977373   \n",
       "2015-11-01 00:00:15    19.688267       1051.5      622.581909  3.977349   \n",
       "2015-11-01 00:00:20    19.525127       1051.5      622.695496  3.977325   \n",
       "\n",
       "                     SPEW_EVENT  PRE_SPEW  POST_SPEW  INVALID  \n",
       "Date                                                           \n",
       "2015-11-01 00:00:00       False     False      False    False  \n",
       "2015-11-01 00:00:05       False     False      False    False  \n",
       "2015-11-01 00:00:10       False     False      False    False  \n",
       "2015-11-01 00:00:15       False     False      False    False  \n",
       "2015-11-01 00:00:20       False     False      False    False  \n",
       "\n",
       "[5 rows x 123 columns]"
      ]
     },
     "execution_count": 10,
     "metadata": {},
     "output_type": "execute_result"
    }
   ],
   "source": [
    "data.head()\n"
   ]
  },
  {
   "cell_type": "code",
   "execution_count": 11,
   "metadata": {
    "collapsed": true
   },
   "outputs": [],
   "source": [
    "data = data[data.INVALID==False]"
   ]
  },
  {
   "cell_type": "code",
   "execution_count": 12,
   "metadata": {
    "collapsed": true
   },
   "outputs": [],
   "source": [
    "data = data[data.POST_SPEW==False]"
   ]
  },
  {
   "cell_type": "code",
   "execution_count": 13,
   "metadata": {
    "collapsed": false
   },
   "outputs": [
    {
     "data": {
      "text/plain": [
       "3334793"
      ]
     },
     "execution_count": 13,
     "metadata": {},
     "output_type": "execute_result"
    }
   ],
   "source": [
    "len(data)"
   ]
  },
  {
   "cell_type": "code",
   "execution_count": 14,
   "metadata": {
    "collapsed": false
   },
   "outputs": [],
   "source": [
    "day = data.loc[pd.Timestamp('2016-03-01 00:00:00'):pd.Timestamp('2016-03-03 00:00:00')]"
   ]
  },
  {
   "cell_type": "code",
   "execution_count": 15,
   "metadata": {
    "collapsed": false
   },
   "outputs": [
    {
     "data": {
      "text/plain": [
       "13024"
      ]
     },
     "execution_count": 15,
     "metadata": {},
     "output_type": "execute_result"
    }
   ],
   "source": [
    "len(day)\n"
   ]
  },
  {
   "cell_type": "code",
   "execution_count": 22,
   "metadata": {
    "collapsed": false
   },
   "outputs": [
    {
     "data": {
      "text/plain": [
       "('3311WI671.PV', 'SY23015.MV')"
      ]
     },
     "execution_count": 22,
     "metadata": {},
     "output_type": "execute_result"
    }
   ],
   "source": [
    "surgcol[:2]"
   ]
  },
  {
   "cell_type": "code",
   "execution_count": 40,
   "metadata": {
    "collapsed": false
   },
   "outputs": [
    {
     "name": "stdout",
     "output_type": "stream",
     "text": [
      "JIC22564\n",
      "JIC22864\n",
      "3312JI354.PV\n",
      "3312FI040.PV\n",
      "3312FIC040.PV\n",
      "DI22936-PCT.CPV\n",
      "FI22937.PV\n",
      "MIY22937.CPV\n",
      "PI22925.PV\n",
      "SI22313.PV\n",
      "SI82603\n",
      "DI22952-PCT.CPV\n",
      "FI22953.PV\n",
      "MIY22953.CPV\n",
      "PI22941.PV\n",
      "SI22315.PV\n",
      "SI82605\n",
      "CalcCY03FRC1.CPV\n",
      "CY03FRC1.CPV\n",
      "CY03FRC2.CPV\n",
      "CY02FRC1.CPV\n",
      "CY02FRC2.CPV\n",
      "3313AI532.PV\n",
      "3313AI533.PV\n",
      "31CL31.CPV\n",
      "31CL31.CPV1\n",
      "FIC22929\n",
      "FIC22945\n",
      "FI25003.PV\n",
      "XS25057.PV\n",
      "FI22140.PV\n",
      "FI22160.PV\n",
      "MXA4AU-I.PV\n",
      "MXA4CU-I.PV\n",
      "MXA5AU-I.PV\n",
      "MXA5CU-I.PV\n",
      "41BD05.DT11\n",
      "41BD05.DT12\n",
      "41BD05.DT13\n",
      "41BD05.DT14\n",
      "41BD06.DT11\n",
      "41BD06.DT12\n",
      "41BD06.DT13\n",
      "41BD06.DT14\n",
      "41AV36.CPV\n",
      "41AV38.CPV\n",
      "41AV35.CPV\n",
      "41AV37.CPV\n",
      "FFY28016.P01\n",
      "TH006RATIO.CPV\n",
      "3312FIC176.PV\n",
      "3312DI078.PV\n",
      "3312FIC078.PV\n",
      "3312FY078.CPV\n",
      "3312SI224.PV\n",
      "3312FI170.PV\n",
      "3312FIC098.PV\n",
      "3312SI202.PV\n",
      "3312DI075.PV\n",
      "3312FI075.PV\n",
      "3312FIC075.PV\n",
      "3312DI075A.PV\n",
      "3312FY075.CPV\n",
      "3312MI075.PV\n",
      "3312PI082.PV\n",
      "3313AI530.PV\n",
      "3313AI531.PV\n",
      "3313AI547A.PV\n",
      "3312FI250.PV\n",
      "3312FI782.PV\n",
      "1101047CL1.CPV2\n",
      "3212WQIPC1-2\n",
      "3311FV380B.PV\n",
      "3311FV690B.PV\n",
      "Throughput\n",
      "3311JI612A.PV\n",
      "3311JI612B.PV\n",
      "3311LI066.PV\n",
      "3311LI540.PV\n",
      "3311PI591.PV\n",
      "3311SI614A.PV\n",
      "3311SI614B.PV\n",
      "3311WI331.PV\n",
      "3311WI540.PV\n",
      "Spewput\n",
      "3311WIC151.PV\n",
      "3311WIC641.PV\n",
      "3311ZI535.PV\n",
      "3311ZI536.PV\n",
      "3311ZI616.PV\n",
      "CR002RUN\n",
      "CR003RUN\n",
      "CV002TNS.PV\n",
      "CV2010VSD.MV\n",
      "FD2003VSD.MV\n",
      "FD2004VSD.MV\n",
      "FD2005VSD.MV\n",
      "FD2007VSD.MV\n",
      "FI22302.PV\n",
      "FI22310.PV\n",
      "FI22963\n",
      "FY22302CL2.CPV1\n",
      "JIC22366\n",
      "JIC23007.PV\n",
      "JIC23017.PV\n",
      "LIC22312A.PV\n",
      "LIC23038-9.PV\n",
      "SIC22371.MV\n",
      "SN2001.PV\n",
      "SN2002.PV\n",
      "SY21633B.MV\n",
      "SY21633C.MV\n",
      "SY23005.MV\n",
      "SY23015.MV\n",
      "WI21633A.PV\n",
      "SY21633A.MV\n",
      "WIC22026.SV\n",
      "WIC22026LAG.RV\n",
      "YIC22001\n",
      "SPEW_EVENT\n",
      "PRE_SPEW\n",
      "POST_SPEW\n",
      "INVALID\n"
     ]
    }
   ],
   "source": [
    "for i in day.columns:\n",
    "    print(i)"
   ]
  },
  {
   "cell_type": "code",
   "execution_count": 34,
   "metadata": {
    "collapsed": false
   },
   "outputs": [
    {
     "ename": "KeyError",
     "evalue": "\"['MillSpeed' '1Speed' 'T3_Output'] not in index\"",
     "output_type": "error",
     "traceback": [
      "\u001b[1;31m---------------------------------------------------------------------------\u001b[0m",
      "\u001b[1;31mKeyError\u001b[0m                                  Traceback (most recent call last)",
      "\u001b[1;32m<ipython-input-34-6fe54c3dc55f>\u001b[0m in \u001b[0;36m<module>\u001b[1;34m()\u001b[0m\n\u001b[1;32m----> 1\u001b[1;33m \u001b[0msns\u001b[0m\u001b[1;33m.\u001b[0m\u001b[0mpairplot\u001b[0m\u001b[1;33m(\u001b[0m\u001b[0mdata\u001b[0m\u001b[1;33m[\u001b[0m\u001b[0mcol\u001b[0m\u001b[1;33m[\u001b[0m\u001b[1;33m:\u001b[0m\u001b[1;36m3\u001b[0m\u001b[1;33m]\u001b[0m\u001b[1;33m]\u001b[0m\u001b[1;33m,\u001b[0m \u001b[0mhue\u001b[0m\u001b[1;33m=\u001b[0m\u001b[1;34m\"PRE_SPEW\"\u001b[0m\u001b[1;33m)\u001b[0m\u001b[1;33m\u001b[0m\u001b[0m\n\u001b[0m",
      "\u001b[1;32m/usr/lib/python3/dist-packages/pandas/core/frame.py\u001b[0m in \u001b[0;36m__getitem__\u001b[1;34m(self, key)\u001b[0m\n\u001b[0;32m   1961\u001b[0m         \u001b[1;32mif\u001b[0m \u001b[0misinstance\u001b[0m\u001b[1;33m(\u001b[0m\u001b[0mkey\u001b[0m\u001b[1;33m,\u001b[0m \u001b[1;33m(\u001b[0m\u001b[0mSeries\u001b[0m\u001b[1;33m,\u001b[0m \u001b[0mnp\u001b[0m\u001b[1;33m.\u001b[0m\u001b[0mndarray\u001b[0m\u001b[1;33m,\u001b[0m \u001b[0mIndex\u001b[0m\u001b[1;33m,\u001b[0m \u001b[0mlist\u001b[0m\u001b[1;33m)\u001b[0m\u001b[1;33m)\u001b[0m\u001b[1;33m:\u001b[0m\u001b[1;33m\u001b[0m\u001b[0m\n\u001b[0;32m   1962\u001b[0m             \u001b[1;31m# either boolean or fancy integer index\u001b[0m\u001b[1;33m\u001b[0m\u001b[1;33m\u001b[0m\u001b[0m\n\u001b[1;32m-> 1963\u001b[1;33m             \u001b[1;32mreturn\u001b[0m \u001b[0mself\u001b[0m\u001b[1;33m.\u001b[0m\u001b[0m_getitem_array\u001b[0m\u001b[1;33m(\u001b[0m\u001b[0mkey\u001b[0m\u001b[1;33m)\u001b[0m\u001b[1;33m\u001b[0m\u001b[0m\n\u001b[0m\u001b[0;32m   1964\u001b[0m         \u001b[1;32melif\u001b[0m \u001b[0misinstance\u001b[0m\u001b[1;33m(\u001b[0m\u001b[0mkey\u001b[0m\u001b[1;33m,\u001b[0m \u001b[0mDataFrame\u001b[0m\u001b[1;33m)\u001b[0m\u001b[1;33m:\u001b[0m\u001b[1;33m\u001b[0m\u001b[0m\n\u001b[0;32m   1965\u001b[0m             \u001b[1;32mreturn\u001b[0m \u001b[0mself\u001b[0m\u001b[1;33m.\u001b[0m\u001b[0m_getitem_frame\u001b[0m\u001b[1;33m(\u001b[0m\u001b[0mkey\u001b[0m\u001b[1;33m)\u001b[0m\u001b[1;33m\u001b[0m\u001b[0m\n",
      "\u001b[1;32m/usr/lib/python3/dist-packages/pandas/core/frame.py\u001b[0m in \u001b[0;36m_getitem_array\u001b[1;34m(self, key)\u001b[0m\n\u001b[0;32m   2005\u001b[0m             \u001b[1;32mreturn\u001b[0m \u001b[0mself\u001b[0m\u001b[1;33m.\u001b[0m\u001b[0mtake\u001b[0m\u001b[1;33m(\u001b[0m\u001b[0mindexer\u001b[0m\u001b[1;33m,\u001b[0m \u001b[0maxis\u001b[0m\u001b[1;33m=\u001b[0m\u001b[1;36m0\u001b[0m\u001b[1;33m,\u001b[0m \u001b[0mconvert\u001b[0m\u001b[1;33m=\u001b[0m\u001b[1;32mFalse\u001b[0m\u001b[1;33m)\u001b[0m\u001b[1;33m\u001b[0m\u001b[0m\n\u001b[0;32m   2006\u001b[0m         \u001b[1;32melse\u001b[0m\u001b[1;33m:\u001b[0m\u001b[1;33m\u001b[0m\u001b[0m\n\u001b[1;32m-> 2007\u001b[1;33m             \u001b[0mindexer\u001b[0m \u001b[1;33m=\u001b[0m \u001b[0mself\u001b[0m\u001b[1;33m.\u001b[0m\u001b[0mix\u001b[0m\u001b[1;33m.\u001b[0m\u001b[0m_convert_to_indexer\u001b[0m\u001b[1;33m(\u001b[0m\u001b[0mkey\u001b[0m\u001b[1;33m,\u001b[0m \u001b[0maxis\u001b[0m\u001b[1;33m=\u001b[0m\u001b[1;36m1\u001b[0m\u001b[1;33m)\u001b[0m\u001b[1;33m\u001b[0m\u001b[0m\n\u001b[0m\u001b[0;32m   2008\u001b[0m             \u001b[1;32mreturn\u001b[0m \u001b[0mself\u001b[0m\u001b[1;33m.\u001b[0m\u001b[0mtake\u001b[0m\u001b[1;33m(\u001b[0m\u001b[0mindexer\u001b[0m\u001b[1;33m,\u001b[0m \u001b[0maxis\u001b[0m\u001b[1;33m=\u001b[0m\u001b[1;36m1\u001b[0m\u001b[1;33m,\u001b[0m \u001b[0mconvert\u001b[0m\u001b[1;33m=\u001b[0m\u001b[1;32mTrue\u001b[0m\u001b[1;33m)\u001b[0m\u001b[1;33m\u001b[0m\u001b[0m\n\u001b[0;32m   2009\u001b[0m \u001b[1;33m\u001b[0m\u001b[0m\n",
      "\u001b[1;32m/usr/lib/python3/dist-packages/pandas/core/indexing.py\u001b[0m in \u001b[0;36m_convert_to_indexer\u001b[1;34m(self, obj, axis, is_setter)\u001b[0m\n\u001b[0;32m   1148\u001b[0m                 \u001b[0mmask\u001b[0m \u001b[1;33m=\u001b[0m \u001b[0mcheck\u001b[0m \u001b[1;33m==\u001b[0m \u001b[1;33m-\u001b[0m\u001b[1;36m1\u001b[0m\u001b[1;33m\u001b[0m\u001b[0m\n\u001b[0;32m   1149\u001b[0m                 \u001b[1;32mif\u001b[0m \u001b[0mmask\u001b[0m\u001b[1;33m.\u001b[0m\u001b[0many\u001b[0m\u001b[1;33m(\u001b[0m\u001b[1;33m)\u001b[0m\u001b[1;33m:\u001b[0m\u001b[1;33m\u001b[0m\u001b[0m\n\u001b[1;32m-> 1150\u001b[1;33m                     \u001b[1;32mraise\u001b[0m \u001b[0mKeyError\u001b[0m\u001b[1;33m(\u001b[0m\u001b[1;34m'%s not in index'\u001b[0m \u001b[1;33m%\u001b[0m \u001b[0mobjarr\u001b[0m\u001b[1;33m[\u001b[0m\u001b[0mmask\u001b[0m\u001b[1;33m]\u001b[0m\u001b[1;33m)\u001b[0m\u001b[1;33m\u001b[0m\u001b[0m\n\u001b[0m\u001b[0;32m   1151\u001b[0m \u001b[1;33m\u001b[0m\u001b[0m\n\u001b[0;32m   1152\u001b[0m                 \u001b[1;32mreturn\u001b[0m \u001b[0m_values_from_object\u001b[0m\u001b[1;33m(\u001b[0m\u001b[0mindexer\u001b[0m\u001b[1;33m)\u001b[0m\u001b[1;33m\u001b[0m\u001b[0m\n",
      "\u001b[1;31mKeyError\u001b[0m: \"['MillSpeed' '1Speed' 'T3_Output'] not in index\""
     ]
    }
   ],
   "source": [
    "sns.pairplot(data[col[:3]], hue=\"PRE_SPEW\")"
   ]
  },
  {
   "cell_type": "code",
   "execution_count": null,
   "metadata": {
    "collapsed": true
   },
   "outputs": [],
   "source": []
  }
 ],
 "metadata": {
  "kernelspec": {
   "display_name": "Python 3",
   "language": "python",
   "name": "python3"
  },
  "language_info": {
   "codemirror_mode": {
    "name": "ipython",
    "version": 3
   },
   "file_extension": ".py",
   "mimetype": "text/x-python",
   "name": "python",
   "nbconvert_exporter": "python",
   "pygments_lexer": "ipython3",
   "version": "3.5.1+"
  }
 },
 "nbformat": 4,
 "nbformat_minor": 0
}

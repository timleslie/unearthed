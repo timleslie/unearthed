{
 "cells": [
  {
   "cell_type": "code",
   "execution_count": 35,
   "metadata": {
    "collapsed": false
   },
   "outputs": [],
   "source": [
    "import pandas as pd"
   ]
  },
  {
   "cell_type": "code",
   "execution_count": 71,
   "metadata": {
    "collapsed": true
   },
   "outputs": [],
   "source": [
    "DATES = ['2016-02']"
   ]
  },
  {
   "cell_type": "code",
   "execution_count": 72,
   "metadata": {
    "collapsed": false
   },
   "outputs": [],
   "source": [
    "for date in DATES:\n",
    "    d1 = pd.read_csv(r\"/mnt/raw/Newcrest/Grind/Grinding-%s.csv.txt\" % date, \\\n",
    "                     parse_dates=[0], dayfirst=True)\n",
    "    d2 = pd.read_csv(r\"/mnt/raw/Newcrest/SAG/Surge-%s.csv.txt\" % date, \\\n",
    "                     parse_dates=[0], dayfirst=True)\n",
    "    \n",
    "    if d1.columns[0] != \"Date\":\n",
    "        d1.rename(columns={d1.columns[0] : \"Date\"}, inplace=True)\n",
    "        \n",
    "    if d2.columns[0] != \"Date\":\n",
    "        d2.rename(columns={d2.columns[0] : \"Date\"}, inplace=True)\n",
    "    \n",
    "    d1.set_index(\"Date\", inplace=True)\n",
    "    d2.set_index(\"Date\", inplace=True)\n",
    "    \n",
    "    merged = pd.merge(d1, d2, left_index=True, right_index=True)\n",
    "    merged.to_hdf(\"/mnt/raw/clean/%s.h5\" % date, \"data\")"
   ]
  },
  {
   "cell_type": "code",
   "execution_count": 73,
   "metadata": {
    "collapsed": true
   },
   "outputs": [],
   "source": [
    "DATES = ['2015-11', '2015-12', '2016-01', '2016-02', '2016-03', '2016-04', '2016-05', '2016-06', '2016-07']\n",
    "\n",
    "all_data = pd.concat( pd.read_hdf(r\"/mnt/raw/clean/%s.h5\" % date, 'data')\n",
    "          for date in DATES)\n",
    "\n",
    "all_data.to_hdf(r\"/mnt/raw/clean/all.h5\", 'data')"
   ]
  }
 ],
 "metadata": {
  "kernelspec": {
   "display_name": "Python 3",
   "language": "python",
   "name": "python3"
  },
  "language_info": {
   "codemirror_mode": {
    "name": "ipython",
    "version": 3
   },
   "file_extension": ".py",
   "mimetype": "text/x-python",
   "name": "python",
   "nbconvert_exporter": "python",
   "pygments_lexer": "ipython3",
   "version": "3.5.1+"
  }
 },
 "nbformat": 4,
 "nbformat_minor": 0
}

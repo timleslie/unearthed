{
 "cells": [
  {
   "cell_type": "code",
   "execution_count": 1,
   "metadata": {
    "collapsed": false
   },
   "outputs": [
    {
     "name": "stderr",
     "output_type": "stream",
     "text": [
      "/usr/lib/python3/dist-packages/matplotlib/__init__.py:874: UserWarning: axes.color_cycle is deprecated and replaced with axes.prop_cycle; please use the latter.\n",
      "  warnings.warn(self.msg_depr % (key, alt_key))\n"
     ]
    }
   ],
   "source": [
    "import pandas as pd\n",
    "import seaborn as sns"
   ]
  },
  {
   "cell_type": "code",
   "execution_count": 10,
   "metadata": {
    "collapsed": true
   },
   "outputs": [],
   "source": [
    "%matplotlib notebook"
   ]
  },
  {
   "cell_type": "code",
   "execution_count": 2,
   "metadata": {
    "collapsed": true
   },
   "outputs": [],
   "source": [
    "data = pd.read_hdf(\"/mnt/raw/clean/labelled.h5\")"
   ]
  },
  {
   "cell_type": "code",
   "execution_count": 3,
   "metadata": {
    "collapsed": false
   },
   "outputs": [
    {
     "data": {
      "text/html": [
       "<div>\n",
       "<table border=\"1\" class=\"dataframe\">\n",
       "  <thead>\n",
       "    <tr style=\"text-align: right;\">\n",
       "      <th></th>\n",
       "      <th>JIC22564</th>\n",
       "      <th>JIC22864</th>\n",
       "      <th>3312JI354.PV</th>\n",
       "      <th>3312FI040.PV</th>\n",
       "      <th>3312FIC040.PV</th>\n",
       "      <th>DI22936-PCT.CPV</th>\n",
       "      <th>FI22937.PV</th>\n",
       "      <th>MIY22937.CPV</th>\n",
       "      <th>PI22925.PV</th>\n",
       "      <th>SI22313.PV</th>\n",
       "      <th>...</th>\n",
       "      <th>SY23015.MV</th>\n",
       "      <th>WI21633A.PV</th>\n",
       "      <th>SY21633A.MV</th>\n",
       "      <th>WIC22026.SV</th>\n",
       "      <th>WIC22026LAG.RV</th>\n",
       "      <th>YIC22001</th>\n",
       "      <th>SPEW_EVENT</th>\n",
       "      <th>PRE_SPEW</th>\n",
       "      <th>POST_SPEW</th>\n",
       "      <th>INVALID</th>\n",
       "    </tr>\n",
       "    <tr>\n",
       "      <th>Date</th>\n",
       "      <th></th>\n",
       "      <th></th>\n",
       "      <th></th>\n",
       "      <th></th>\n",
       "      <th></th>\n",
       "      <th></th>\n",
       "      <th></th>\n",
       "      <th></th>\n",
       "      <th></th>\n",
       "      <th></th>\n",
       "      <th></th>\n",
       "      <th></th>\n",
       "      <th></th>\n",
       "      <th></th>\n",
       "      <th></th>\n",
       "      <th></th>\n",
       "      <th></th>\n",
       "      <th></th>\n",
       "      <th></th>\n",
       "      <th></th>\n",
       "      <th></th>\n",
       "    </tr>\n",
       "  </thead>\n",
       "  <tbody>\n",
       "    <tr>\n",
       "      <th>2015-11-01 00:00:00</th>\n",
       "      <td>-9.972675</td>\n",
       "      <td>-22.276613</td>\n",
       "      <td>68.263298</td>\n",
       "      <td>-0.124795</td>\n",
       "      <td>-0.124795</td>\n",
       "      <td>82.477707</td>\n",
       "      <td>0.079746</td>\n",
       "      <td>-0.069263</td>\n",
       "      <td>-0.016819</td>\n",
       "      <td>0.044351</td>\n",
       "      <td>...</td>\n",
       "      <td>49.100315</td>\n",
       "      <td>1109.271606</td>\n",
       "      <td>19.740347</td>\n",
       "      <td>1051.5</td>\n",
       "      <td>622.241211</td>\n",
       "      <td>3.977420</td>\n",
       "      <td>False</td>\n",
       "      <td>False</td>\n",
       "      <td>False</td>\n",
       "      <td>False</td>\n",
       "    </tr>\n",
       "    <tr>\n",
       "      <th>2015-11-01 00:00:05</th>\n",
       "      <td>-9.518520</td>\n",
       "      <td>-22.276613</td>\n",
       "      <td>68.322144</td>\n",
       "      <td>-0.124795</td>\n",
       "      <td>-0.124795</td>\n",
       "      <td>82.477707</td>\n",
       "      <td>-0.100026</td>\n",
       "      <td>-0.069264</td>\n",
       "      <td>-0.016819</td>\n",
       "      <td>0.044352</td>\n",
       "      <td>...</td>\n",
       "      <td>49.518925</td>\n",
       "      <td>1102.659058</td>\n",
       "      <td>19.722883</td>\n",
       "      <td>1051.5</td>\n",
       "      <td>622.354797</td>\n",
       "      <td>3.977396</td>\n",
       "      <td>False</td>\n",
       "      <td>False</td>\n",
       "      <td>False</td>\n",
       "      <td>False</td>\n",
       "    </tr>\n",
       "    <tr>\n",
       "      <th>2015-11-01 00:00:10</th>\n",
       "      <td>-9.927657</td>\n",
       "      <td>-22.276613</td>\n",
       "      <td>68.087372</td>\n",
       "      <td>-0.124795</td>\n",
       "      <td>-0.124795</td>\n",
       "      <td>82.477707</td>\n",
       "      <td>-0.268234</td>\n",
       "      <td>-0.069266</td>\n",
       "      <td>-0.016819</td>\n",
       "      <td>0.044354</td>\n",
       "      <td>...</td>\n",
       "      <td>49.543472</td>\n",
       "      <td>1078.446655</td>\n",
       "      <td>19.747105</td>\n",
       "      <td>1051.5</td>\n",
       "      <td>622.468323</td>\n",
       "      <td>3.977373</td>\n",
       "      <td>False</td>\n",
       "      <td>False</td>\n",
       "      <td>False</td>\n",
       "      <td>False</td>\n",
       "    </tr>\n",
       "    <tr>\n",
       "      <th>2015-11-01 00:00:15</th>\n",
       "      <td>-9.745892</td>\n",
       "      <td>-22.276613</td>\n",
       "      <td>68.371857</td>\n",
       "      <td>-0.124795</td>\n",
       "      <td>-0.124795</td>\n",
       "      <td>82.477707</td>\n",
       "      <td>-0.157069</td>\n",
       "      <td>-0.069268</td>\n",
       "      <td>-0.016819</td>\n",
       "      <td>0.044356</td>\n",
       "      <td>...</td>\n",
       "      <td>49.638874</td>\n",
       "      <td>1127.230347</td>\n",
       "      <td>19.688267</td>\n",
       "      <td>1051.5</td>\n",
       "      <td>622.581909</td>\n",
       "      <td>3.977349</td>\n",
       "      <td>False</td>\n",
       "      <td>False</td>\n",
       "      <td>False</td>\n",
       "      <td>False</td>\n",
       "    </tr>\n",
       "    <tr>\n",
       "      <th>2015-11-01 00:00:20</th>\n",
       "      <td>-9.918549</td>\n",
       "      <td>-22.276613</td>\n",
       "      <td>68.413178</td>\n",
       "      <td>-0.124795</td>\n",
       "      <td>-0.124795</td>\n",
       "      <td>82.477707</td>\n",
       "      <td>-0.004912</td>\n",
       "      <td>-0.069270</td>\n",
       "      <td>-0.016819</td>\n",
       "      <td>0.044358</td>\n",
       "      <td>...</td>\n",
       "      <td>49.583370</td>\n",
       "      <td>1151.662476</td>\n",
       "      <td>19.525127</td>\n",
       "      <td>1051.5</td>\n",
       "      <td>622.695496</td>\n",
       "      <td>3.977325</td>\n",
       "      <td>False</td>\n",
       "      <td>False</td>\n",
       "      <td>False</td>\n",
       "      <td>False</td>\n",
       "    </tr>\n",
       "  </tbody>\n",
       "</table>\n",
       "<p>5 rows × 123 columns</p>\n",
       "</div>"
      ],
      "text/plain": [
       "                     JIC22564   JIC22864  3312JI354.PV  3312FI040.PV  \\\n",
       "Date                                                                   \n",
       "2015-11-01 00:00:00 -9.972675 -22.276613     68.263298     -0.124795   \n",
       "2015-11-01 00:00:05 -9.518520 -22.276613     68.322144     -0.124795   \n",
       "2015-11-01 00:00:10 -9.927657 -22.276613     68.087372     -0.124795   \n",
       "2015-11-01 00:00:15 -9.745892 -22.276613     68.371857     -0.124795   \n",
       "2015-11-01 00:00:20 -9.918549 -22.276613     68.413178     -0.124795   \n",
       "\n",
       "                     3312FIC040.PV  DI22936-PCT.CPV  FI22937.PV  MIY22937.CPV  \\\n",
       "Date                                                                            \n",
       "2015-11-01 00:00:00      -0.124795        82.477707    0.079746     -0.069263   \n",
       "2015-11-01 00:00:05      -0.124795        82.477707   -0.100026     -0.069264   \n",
       "2015-11-01 00:00:10      -0.124795        82.477707   -0.268234     -0.069266   \n",
       "2015-11-01 00:00:15      -0.124795        82.477707   -0.157069     -0.069268   \n",
       "2015-11-01 00:00:20      -0.124795        82.477707   -0.004912     -0.069270   \n",
       "\n",
       "                     PI22925.PV  SI22313.PV   ...     SY23015.MV  WI21633A.PV  \\\n",
       "Date                                          ...                               \n",
       "2015-11-01 00:00:00   -0.016819    0.044351   ...      49.100315  1109.271606   \n",
       "2015-11-01 00:00:05   -0.016819    0.044352   ...      49.518925  1102.659058   \n",
       "2015-11-01 00:00:10   -0.016819    0.044354   ...      49.543472  1078.446655   \n",
       "2015-11-01 00:00:15   -0.016819    0.044356   ...      49.638874  1127.230347   \n",
       "2015-11-01 00:00:20   -0.016819    0.044358   ...      49.583370  1151.662476   \n",
       "\n",
       "                     SY21633A.MV  WIC22026.SV  WIC22026LAG.RV  YIC22001  \\\n",
       "Date                                                                      \n",
       "2015-11-01 00:00:00    19.740347       1051.5      622.241211  3.977420   \n",
       "2015-11-01 00:00:05    19.722883       1051.5      622.354797  3.977396   \n",
       "2015-11-01 00:00:10    19.747105       1051.5      622.468323  3.977373   \n",
       "2015-11-01 00:00:15    19.688267       1051.5      622.581909  3.977349   \n",
       "2015-11-01 00:00:20    19.525127       1051.5      622.695496  3.977325   \n",
       "\n",
       "                     SPEW_EVENT  PRE_SPEW  POST_SPEW  INVALID  \n",
       "Date                                                           \n",
       "2015-11-01 00:00:00       False     False      False    False  \n",
       "2015-11-01 00:00:05       False     False      False    False  \n",
       "2015-11-01 00:00:10       False     False      False    False  \n",
       "2015-11-01 00:00:15       False     False      False    False  \n",
       "2015-11-01 00:00:20       False     False      False    False  \n",
       "\n",
       "[5 rows x 123 columns]"
      ]
     },
     "execution_count": 3,
     "metadata": {},
     "output_type": "execute_result"
    }
   ],
   "source": [
    "data.head()\n"
   ]
  },
  {
   "cell_type": "code",
   "execution_count": 4,
   "metadata": {
    "collapsed": true
   },
   "outputs": [],
   "source": [
    "data = data[data.INVALID==False]"
   ]
  },
  {
   "cell_type": "code",
   "execution_count": 5,
   "metadata": {
    "collapsed": true
   },
   "outputs": [],
   "source": [
    "data = data[data.POST_SPEW==False]"
   ]
  },
  {
   "cell_type": "code",
   "execution_count": 7,
   "metadata": {
    "collapsed": false
   },
   "outputs": [],
   "source": [
    "day = data.loc[pd.Timestamp('2015-11-01 00:00:00'):pd.Timestamp('2015-11-02 00:00:00')]"
   ]
  },
  {
   "cell_type": "code",
   "execution_count": 8,
   "metadata": {
    "collapsed": false
   },
   "outputs": [
    {
     "data": {
      "text/plain": [
       "120"
      ]
     },
     "execution_count": 8,
     "metadata": {},
     "output_type": "execute_result"
    }
   ],
   "source": [
    "len(day)\n"
   ]
  },
  {
   "cell_type": "code",
   "execution_count": 9,
   "metadata": {
    "collapsed": false
   },
   "outputs": [
    {
     "ename": "TclError",
     "evalue": "no display name and no $DISPLAY environment variable",
     "output_type": "error",
     "traceback": [
      "\u001b[1;31m---------------------------------------------------------------------------\u001b[0m",
      "\u001b[1;31mTclError\u001b[0m                                  Traceback (most recent call last)",
      "\u001b[1;32m<ipython-input-9-aef44b8baf45>\u001b[0m in \u001b[0;36m<module>\u001b[1;34m()\u001b[0m\n\u001b[1;32m----> 1\u001b[1;33m \u001b[0msns\u001b[0m\u001b[1;33m.\u001b[0m\u001b[0mpairplot\u001b[0m\u001b[1;33m(\u001b[0m\u001b[0mday\u001b[0m\u001b[1;33m)\u001b[0m\u001b[1;33m\u001b[0m\u001b[0m\n\u001b[0m",
      "\u001b[1;32m/usr/lib/python3/dist-packages/seaborn/linearmodels.py\u001b[0m in \u001b[0;36mpairplot\u001b[1;34m(data, hue, hue_order, palette, vars, x_vars, y_vars, kind, diag_kind, markers, size, aspect, dropna, plot_kws, diag_kws, grid_kws)\u001b[0m\n\u001b[0;32m   1581\u001b[0m                     \u001b[0mhue_order\u001b[0m\u001b[1;33m=\u001b[0m\u001b[0mhue_order\u001b[0m\u001b[1;33m,\u001b[0m \u001b[0mpalette\u001b[0m\u001b[1;33m=\u001b[0m\u001b[0mpalette\u001b[0m\u001b[1;33m,\u001b[0m\u001b[1;33m\u001b[0m\u001b[0m\n\u001b[0;32m   1582\u001b[0m                     \u001b[0mdiag_sharey\u001b[0m\u001b[1;33m=\u001b[0m\u001b[0mdiag_sharey\u001b[0m\u001b[1;33m,\u001b[0m\u001b[1;33m\u001b[0m\u001b[0m\n\u001b[1;32m-> 1583\u001b[1;33m                     size=size, aspect=aspect, dropna=dropna, **grid_kws)\n\u001b[0m\u001b[0;32m   1584\u001b[0m \u001b[1;33m\u001b[0m\u001b[0m\n\u001b[0;32m   1585\u001b[0m     \u001b[1;31m# Add the markers here as PairGrid has figured out how many levels of the\u001b[0m\u001b[1;33m\u001b[0m\u001b[1;33m\u001b[0m\u001b[0m\n",
      "\u001b[1;32m/usr/lib/python3/dist-packages/seaborn/axisgrid.py\u001b[0m in \u001b[0;36m__init__\u001b[1;34m(self, data, hue, hue_order, palette, hue_kws, vars, x_vars, y_vars, diag_sharey, size, aspect, despine, dropna)\u001b[0m\n\u001b[0;32m   1200\u001b[0m                                  \u001b[0mfigsize\u001b[0m\u001b[1;33m=\u001b[0m\u001b[0mfigsize\u001b[0m\u001b[1;33m,\u001b[0m\u001b[1;33m\u001b[0m\u001b[0m\n\u001b[0;32m   1201\u001b[0m                                  \u001b[0msharex\u001b[0m\u001b[1;33m=\u001b[0m\u001b[1;34m\"col\"\u001b[0m\u001b[1;33m,\u001b[0m \u001b[0msharey\u001b[0m\u001b[1;33m=\u001b[0m\u001b[1;34m\"row\"\u001b[0m\u001b[1;33m,\u001b[0m\u001b[1;33m\u001b[0m\u001b[0m\n\u001b[1;32m-> 1202\u001b[1;33m                                  squeeze=False)\n\u001b[0m\u001b[0;32m   1203\u001b[0m \u001b[1;33m\u001b[0m\u001b[0m\n\u001b[0;32m   1204\u001b[0m         \u001b[0mself\u001b[0m\u001b[1;33m.\u001b[0m\u001b[0mfig\u001b[0m \u001b[1;33m=\u001b[0m \u001b[0mfig\u001b[0m\u001b[1;33m\u001b[0m\u001b[0m\n",
      "\u001b[1;32m/usr/lib/python3/dist-packages/matplotlib/pyplot.py\u001b[0m in \u001b[0;36msubplots\u001b[1;34m(nrows, ncols, sharex, sharey, squeeze, subplot_kw, gridspec_kw, **fig_kw)\u001b[0m\n\u001b[0;32m   1175\u001b[0m         \u001b[0mgridspec_kw\u001b[0m \u001b[1;33m=\u001b[0m \u001b[1;33m{\u001b[0m\u001b[1;33m}\u001b[0m\u001b[1;33m\u001b[0m\u001b[0m\n\u001b[0;32m   1176\u001b[0m \u001b[1;33m\u001b[0m\u001b[0m\n\u001b[1;32m-> 1177\u001b[1;33m     \u001b[0mfig\u001b[0m \u001b[1;33m=\u001b[0m \u001b[0mfigure\u001b[0m\u001b[1;33m(\u001b[0m\u001b[1;33m**\u001b[0m\u001b[0mfig_kw\u001b[0m\u001b[1;33m)\u001b[0m\u001b[1;33m\u001b[0m\u001b[0m\n\u001b[0m\u001b[0;32m   1178\u001b[0m     \u001b[0mgs\u001b[0m \u001b[1;33m=\u001b[0m \u001b[0mGridSpec\u001b[0m\u001b[1;33m(\u001b[0m\u001b[0mnrows\u001b[0m\u001b[1;33m,\u001b[0m \u001b[0mncols\u001b[0m\u001b[1;33m,\u001b[0m \u001b[1;33m**\u001b[0m\u001b[0mgridspec_kw\u001b[0m\u001b[1;33m)\u001b[0m\u001b[1;33m\u001b[0m\u001b[0m\n\u001b[0;32m   1179\u001b[0m \u001b[1;33m\u001b[0m\u001b[0m\n",
      "\u001b[1;32m/usr/lib/python3/dist-packages/matplotlib/pyplot.py\u001b[0m in \u001b[0;36mfigure\u001b[1;34m(num, figsize, dpi, facecolor, edgecolor, frameon, FigureClass, **kwargs)\u001b[0m\n\u001b[0;32m    525\u001b[0m                                         \u001b[0mframeon\u001b[0m\u001b[1;33m=\u001b[0m\u001b[0mframeon\u001b[0m\u001b[1;33m,\u001b[0m\u001b[1;33m\u001b[0m\u001b[0m\n\u001b[0;32m    526\u001b[0m                                         \u001b[0mFigureClass\u001b[0m\u001b[1;33m=\u001b[0m\u001b[0mFigureClass\u001b[0m\u001b[1;33m,\u001b[0m\u001b[1;33m\u001b[0m\u001b[0m\n\u001b[1;32m--> 527\u001b[1;33m                                         **kwargs)\n\u001b[0m\u001b[0;32m    528\u001b[0m \u001b[1;33m\u001b[0m\u001b[0m\n\u001b[0;32m    529\u001b[0m         \u001b[1;32mif\u001b[0m \u001b[0mfigLabel\u001b[0m\u001b[1;33m:\u001b[0m\u001b[1;33m\u001b[0m\u001b[0m\n",
      "\u001b[1;32m/usr/lib/python3/dist-packages/matplotlib/backends/backend_tkagg.py\u001b[0m in \u001b[0;36mnew_figure_manager\u001b[1;34m(num, *args, **kwargs)\u001b[0m\n\u001b[0;32m     82\u001b[0m     \u001b[0mFigureClass\u001b[0m \u001b[1;33m=\u001b[0m \u001b[0mkwargs\u001b[0m\u001b[1;33m.\u001b[0m\u001b[0mpop\u001b[0m\u001b[1;33m(\u001b[0m\u001b[1;34m'FigureClass'\u001b[0m\u001b[1;33m,\u001b[0m \u001b[0mFigure\u001b[0m\u001b[1;33m)\u001b[0m\u001b[1;33m\u001b[0m\u001b[0m\n\u001b[0;32m     83\u001b[0m     \u001b[0mfigure\u001b[0m \u001b[1;33m=\u001b[0m \u001b[0mFigureClass\u001b[0m\u001b[1;33m(\u001b[0m\u001b[1;33m*\u001b[0m\u001b[0margs\u001b[0m\u001b[1;33m,\u001b[0m \u001b[1;33m**\u001b[0m\u001b[0mkwargs\u001b[0m\u001b[1;33m)\u001b[0m\u001b[1;33m\u001b[0m\u001b[0m\n\u001b[1;32m---> 84\u001b[1;33m     \u001b[1;32mreturn\u001b[0m \u001b[0mnew_figure_manager_given_figure\u001b[0m\u001b[1;33m(\u001b[0m\u001b[0mnum\u001b[0m\u001b[1;33m,\u001b[0m \u001b[0mfigure\u001b[0m\u001b[1;33m)\u001b[0m\u001b[1;33m\u001b[0m\u001b[0m\n\u001b[0m\u001b[0;32m     85\u001b[0m \u001b[1;33m\u001b[0m\u001b[0m\n\u001b[0;32m     86\u001b[0m \u001b[1;33m\u001b[0m\u001b[0m\n",
      "\u001b[1;32m/usr/lib/python3/dist-packages/matplotlib/backends/backend_tkagg.py\u001b[0m in \u001b[0;36mnew_figure_manager_given_figure\u001b[1;34m(num, figure)\u001b[0m\n\u001b[0;32m     90\u001b[0m     \"\"\"\n\u001b[0;32m     91\u001b[0m     \u001b[0m_focus\u001b[0m \u001b[1;33m=\u001b[0m \u001b[0mwindowing\u001b[0m\u001b[1;33m.\u001b[0m\u001b[0mFocusManager\u001b[0m\u001b[1;33m(\u001b[0m\u001b[1;33m)\u001b[0m\u001b[1;33m\u001b[0m\u001b[0m\n\u001b[1;32m---> 92\u001b[1;33m     \u001b[0mwindow\u001b[0m \u001b[1;33m=\u001b[0m \u001b[0mTk\u001b[0m\u001b[1;33m.\u001b[0m\u001b[0mTk\u001b[0m\u001b[1;33m(\u001b[0m\u001b[1;33m)\u001b[0m\u001b[1;33m\u001b[0m\u001b[0m\n\u001b[0m\u001b[0;32m     93\u001b[0m     \u001b[0mwindow\u001b[0m\u001b[1;33m.\u001b[0m\u001b[0mwithdraw\u001b[0m\u001b[1;33m(\u001b[0m\u001b[1;33m)\u001b[0m\u001b[1;33m\u001b[0m\u001b[0m\n\u001b[0;32m     94\u001b[0m \u001b[1;33m\u001b[0m\u001b[0m\n",
      "\u001b[1;32m/usr/lib/python3.5/tkinter/__init__.py\u001b[0m in \u001b[0;36m__init__\u001b[1;34m(self, screenName, baseName, className, useTk, sync, use)\u001b[0m\n\u001b[0;32m   1869\u001b[0m                 \u001b[0mbaseName\u001b[0m \u001b[1;33m=\u001b[0m \u001b[0mbaseName\u001b[0m \u001b[1;33m+\u001b[0m \u001b[0mext\u001b[0m\u001b[1;33m\u001b[0m\u001b[0m\n\u001b[0;32m   1870\u001b[0m         \u001b[0minteractive\u001b[0m \u001b[1;33m=\u001b[0m \u001b[1;36m0\u001b[0m\u001b[1;33m\u001b[0m\u001b[0m\n\u001b[1;32m-> 1871\u001b[1;33m         \u001b[0mself\u001b[0m\u001b[1;33m.\u001b[0m\u001b[0mtk\u001b[0m \u001b[1;33m=\u001b[0m \u001b[0m_tkinter\u001b[0m\u001b[1;33m.\u001b[0m\u001b[0mcreate\u001b[0m\u001b[1;33m(\u001b[0m\u001b[0mscreenName\u001b[0m\u001b[1;33m,\u001b[0m \u001b[0mbaseName\u001b[0m\u001b[1;33m,\u001b[0m \u001b[0mclassName\u001b[0m\u001b[1;33m,\u001b[0m \u001b[0minteractive\u001b[0m\u001b[1;33m,\u001b[0m \u001b[0mwantobjects\u001b[0m\u001b[1;33m,\u001b[0m \u001b[0museTk\u001b[0m\u001b[1;33m,\u001b[0m \u001b[0msync\u001b[0m\u001b[1;33m,\u001b[0m \u001b[0muse\u001b[0m\u001b[1;33m)\u001b[0m\u001b[1;33m\u001b[0m\u001b[0m\n\u001b[0m\u001b[0;32m   1872\u001b[0m         \u001b[1;32mif\u001b[0m \u001b[0museTk\u001b[0m\u001b[1;33m:\u001b[0m\u001b[1;33m\u001b[0m\u001b[0m\n\u001b[0;32m   1873\u001b[0m             \u001b[0mself\u001b[0m\u001b[1;33m.\u001b[0m\u001b[0m_loadtk\u001b[0m\u001b[1;33m(\u001b[0m\u001b[1;33m)\u001b[0m\u001b[1;33m\u001b[0m\u001b[0m\n",
      "\u001b[1;31mTclError\u001b[0m: no display name and no $DISPLAY environment variable"
     ]
    }
   ],
   "source": [
    "sns.pairplot(day)"
   ]
  },
  {
   "cell_type": "code",
   "execution_count": null,
   "metadata": {
    "collapsed": true
   },
   "outputs": [],
   "source": []
  }
 ],
 "metadata": {
  "kernelspec": {
   "display_name": "Python 3",
   "language": "python",
   "name": "python3"
  },
  "language_info": {
   "codemirror_mode": {
    "name": "ipython",
    "version": 3
   },
   "file_extension": ".py",
   "mimetype": "text/x-python",
   "name": "python",
   "nbconvert_exporter": "python",
   "pygments_lexer": "ipython3",
   "version": "3.5.1+"
  }
 },
 "nbformat": 4,
 "nbformat_minor": 0
}
